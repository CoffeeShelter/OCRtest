{
 "cells": [
  {
   "cell_type": "code",
   "execution_count": 1,
   "metadata": {
    "scrolled": false
   },
   "outputs": [
    {
     "data": {
      "text/plain": [
       "'\\nfile_num = 6\\nmax_num = 16\\nwhile(num<max_num + 1):\\n    detect_text(\"tables/sample %d/sample %d-%d.jpg\"%(file_num, file_num, num))\\n    num +=1\\n'"
      ]
     },
     "execution_count": 1,
     "metadata": {},
     "output_type": "execute_result"
    }
   ],
   "source": [
    "import os, io\n",
    "\n",
    "\n",
    "def detect_text(table_num, max_num):    \n",
    "    from google.cloud import vision\n",
    "    client = vision.ImageAnnotatorClient()\n",
    "\n",
    "    file = open('sr_gaussianBlur2_sharping/sample %d.txt'%(table_num),'w')\n",
    "    \n",
    "    for num in range(max_num):\n",
    "        path = \"sr_gaussianBlur2_sharping/sample (%d)/sample %d-%d.jpg\"%(table_num, table_num, num+1)\n",
    "        with io.open(path, 'rb') as image_file:\n",
    "            content = image_file.read()\n",
    "\n",
    "        image = vision.types.Image(content=content)\n",
    "\n",
    "        response = client.text_detection(image=image)\n",
    "        texts = response.text_annotations\n",
    "        \n",
    "        if len(texts) > 0:\n",
    "            print(texts[0].description)\n",
    "            file.write(\"<%d 번째> \"%(num + 1))\n",
    "            file.write(\"%s\\n\"%texts[0].description)\n",
    "    \n",
    "#    print('%d Texts: '%num)\n",
    "#    for text in texts:\n",
    "#         print(text.description)\n",
    "#         break\n",
    "\n",
    "#   for text in texts:\n",
    "#        print('\"{}\" ,'.format(text.description))\n",
    "#    print('\\n')\n",
    "#        vertices = (['({},{})'.format(vertex.x, vertex.y)\n",
    "#                    for vertex in text.bounding_poly.vertices])\n",
    "#\n",
    "#        print('bounds: {}'.format(','.join(vertices)))\n",
    "\n",
    "\"\"\"\n",
    "file_num = 6\n",
    "max_num = 16\n",
    "while(num<max_num + 1):\n",
    "    detect_text(\"tables/sample %d/sample %d-%d.jpg\"%(file_num, file_num, num))\n",
    "    num +=1\n",
    "\"\"\"\n"
   ]
  },
  {
   "cell_type": "code",
   "execution_count": 2,
   "metadata": {
    "scrolled": true
   },
   "outputs": [
    {
     "name": "stdout",
     "output_type": "stream",
     "text": [
      "단백질\n",
      "\n",
      "지방\n",
      "\n",
      "1OIE Rol. Rb1 9 Rg39l\n",
      "\n",
      "프로바이오틱스 수\n",
      "\n",
      "12 kcal\n",
      "\n",
      "39\n",
      "\n",
      "09\n",
      "\n",
      "09\n",
      "\n",
      "3 mg\n",
      "\n",
      "100,000,000 CFU O\n",
      "\n",
      "0%\n",
      "\n",
      "0%\n",
      "\n",
      "끝!\n",
      "\n",
      "얼량\n",
      "\n",
      "탄수화물\n",
      "\n",
      "단백질\n",
      "\n",
      "지방\n",
      "\n",
      "나트륨\n",
      "\n",
      "칼슘\n",
      "\n",
      "마그네슘\n",
      "\n",
      "비타민D\n",
      "\n",
      "아연\n",
      "\n",
      "Okcal\n",
      "\n",
      "0g\n",
      "\n",
      "Og\n",
      "\n",
      "Og\n",
      "\n",
      "Omg\n",
      "\n",
      "300mg\n",
      "\n",
      "150mg\n",
      "\n",
      "1549\n",
      "\n",
      "10mg\n",
      "\n",
      "0%\n",
      "\n",
      "0%\n",
      "\n",
      "0%\n",
      "\n",
      "0%\n",
      "\n",
      "43%\n",
      "\n",
      "48%\n",
      "\n",
      "150%\n",
      "\n",
      "118%\n",
      "\n",
      "끝!\n",
      "\n",
      "열량\n",
      "\n",
      "지방\n",
      "\n",
      "9Kçal\n",
      "\n"
     ]
    },
    {
     "ename": "UnicodeEncodeError",
     "evalue": "'cp949' codec can't encode character '\\xe7' in position 2: illegal multibyte sequence",
     "output_type": "error",
     "traceback": [
      "\u001b[1;31m---------------------------------------------------------------------------\u001b[0m",
      "\u001b[1;31mUnicodeEncodeError\u001b[0m                        Traceback (most recent call last)",
      "\u001b[1;32m<ipython-input-2-40cb0defcba2>\u001b[0m in \u001b[0;36m<module>\u001b[1;34m\u001b[0m\n\u001b[0;32m      3\u001b[0m \u001b[1;33m\u001b[0m\u001b[0m\n\u001b[0;32m      4\u001b[0m \u001b[1;32mfor\u001b[0m \u001b[0mm_num\u001b[0m \u001b[1;32min\u001b[0m \u001b[0mmax_num\u001b[0m\u001b[1;33m:\u001b[0m\u001b[1;33m\u001b[0m\u001b[0m\n\u001b[1;32m----> 5\u001b[1;33m     \u001b[0mdetect_text\u001b[0m\u001b[1;33m(\u001b[0m\u001b[0mfile_num\u001b[0m\u001b[1;33m,\u001b[0m \u001b[0mm_num\u001b[0m\u001b[1;33m)\u001b[0m\u001b[1;33m\u001b[0m\u001b[0m\n\u001b[0m\u001b[0;32m      6\u001b[0m     \u001b[0mfile_num\u001b[0m \u001b[1;33m+=\u001b[0m \u001b[1;36m1\u001b[0m\u001b[1;33m\u001b[0m\u001b[0m\n\u001b[0;32m      7\u001b[0m     \u001b[0mprint\u001b[0m\u001b[1;33m(\u001b[0m\u001b[1;34m\"끝!\\n\"\u001b[0m\u001b[1;33m)\u001b[0m\u001b[1;33m\u001b[0m\u001b[0m\n",
      "\u001b[1;32m<ipython-input-1-045de0e7418b>\u001b[0m in \u001b[0;36mdetect_text\u001b[1;34m(table_num, max_num)\u001b[0m\n\u001b[0;32m     21\u001b[0m             \u001b[0mprint\u001b[0m\u001b[1;33m(\u001b[0m\u001b[0mtexts\u001b[0m\u001b[1;33m[\u001b[0m\u001b[1;36m0\u001b[0m\u001b[1;33m]\u001b[0m\u001b[1;33m.\u001b[0m\u001b[0mdescription\u001b[0m\u001b[1;33m)\u001b[0m\u001b[1;33m\u001b[0m\u001b[0m\n\u001b[0;32m     22\u001b[0m             \u001b[0mfile\u001b[0m\u001b[1;33m.\u001b[0m\u001b[0mwrite\u001b[0m\u001b[1;33m(\u001b[0m\u001b[1;34m\"<%d 번째> \"\u001b[0m\u001b[1;33m%\u001b[0m\u001b[1;33m(\u001b[0m\u001b[0mnum\u001b[0m \u001b[1;33m+\u001b[0m \u001b[1;36m1\u001b[0m\u001b[1;33m)\u001b[0m\u001b[1;33m)\u001b[0m\u001b[1;33m\u001b[0m\u001b[0m\n\u001b[1;32m---> 23\u001b[1;33m             \u001b[0mfile\u001b[0m\u001b[1;33m.\u001b[0m\u001b[0mwrite\u001b[0m\u001b[1;33m(\u001b[0m\u001b[1;34m\"%s\\n\"\u001b[0m\u001b[1;33m%\u001b[0m\u001b[0mtexts\u001b[0m\u001b[1;33m[\u001b[0m\u001b[1;36m0\u001b[0m\u001b[1;33m]\u001b[0m\u001b[1;33m.\u001b[0m\u001b[0mdescription\u001b[0m\u001b[1;33m)\u001b[0m\u001b[1;33m\u001b[0m\u001b[0m\n\u001b[0m\u001b[0;32m     24\u001b[0m \u001b[1;33m\u001b[0m\u001b[0m\n\u001b[0;32m     25\u001b[0m \u001b[1;31m#    print('%d Texts: '%num)\u001b[0m\u001b[1;33m\u001b[0m\u001b[1;33m\u001b[0m\u001b[0m\n",
      "\u001b[1;31mUnicodeEncodeError\u001b[0m: 'cp949' codec can't encode character '\\xe7' in position 2: illegal multibyte sequence"
     ]
    }
   ],
   "source": [
    "max_num = [18, 26, 14, 16, 16, 16, 17, 23, 16]\n",
    "file_num = 1\n",
    "\n",
    "for m_num in max_num:\n",
    "    detect_text(file_num, m_num)\n",
    "    file_num += 1\n",
    "    print(\"끝!\\n\")"
   ]
  },
  {
   "cell_type": "code",
   "execution_count": 8,
   "metadata": {},
   "outputs": [
    {
     "name": "stdout",
     "output_type": "stream",
     "text": [
      "10\n",
      "\n",
      "단백질\n",
      "\n",
      "지방\n",
      "\n",
      "나트륨\n",
      "\n",
      "Luteolin-7\n",
      "-0-diglucuronide\n",
      "\n",
      "O kcal\n",
      "\n",
      "0g\n",
      "\n",
      "0g\n",
      "\n",
      "0g\n",
      "\n",
      "O mg\n",
      "\n",
      "22,3 mg\n",
      "\n",
      "O%\n",
      "\n",
      "0%\n",
      "\n",
      "0%\n",
      "\n",
      "0%\n",
      "\n"
     ]
    }
   ],
   "source": [
    "detect_text(4, 16)"
   ]
  },
  {
   "cell_type": "code",
   "execution_count": 1,
   "metadata": {},
   "outputs": [
    {
     "data": {
      "text/plain": [
       "'\\nfile_num = 6\\nmax_num = 16\\nwhile(num<max_num + 1):\\n    detect_text(\"tables/sample %d/sample %d-%d.jpg\"%(file_num, file_num, num))\\n    num +=1\\n'"
      ]
     },
     "execution_count": 1,
     "metadata": {},
     "output_type": "execute_result"
    }
   ],
   "source": [
    "def detect_text_json(path):    \n",
    "    from google.cloud import vision\n",
    "    client = vision.ImageAnnotatorClient()\n",
    "    \n",
    "    with io.open(path, 'rb') as image_file:\n",
    "        content = image_file.read()\n",
    "\n",
    "    image = vision.types.Image(content=content)\n",
    "\n",
    "    response = client.text_detection(image=image)\n",
    "    texts = response.text_annotations\n",
    "\n",
    "    print(texts[0].description)\n",
    "    \n",
    "#    print('%d Texts: '%num)\n",
    "#    for text in texts:\n",
    "#         print(text.description)\n",
    "#         break\n",
    "\n",
    "#   for text in texts:\n",
    "#        print('\"{}\" ,'.format(text.description))\n",
    "#    print('\\n')\n",
    "#        vertices = (['({},{})'.format(vertex.x, vertex.y)\n",
    "#                    for vertex in text.bounding_poly.vertices])\n",
    "#\n",
    "#        print('bounds: {}'.format(','.join(vertices)))\n",
    "\n",
    "\"\"\"\n",
    "file_num = 6\n",
    "max_num = 16\n",
    "while(num<max_num + 1):\n",
    "    detect_text(\"tables/sample %d/sample %d-%d.jpg\"%(file_num, file_num, num))\n",
    "    num +=1\n",
    "\"\"\"\n"
   ]
  },
  {
   "cell_type": "code",
   "execution_count": 6,
   "metadata": {},
   "outputs": [
    {
     "name": "stdout",
     "output_type": "stream",
     "text": [
      "Set nocount off\n",
      "go\n",
      "Declare @i int, @id varchar(5), @name varchar(20), @dept_name varchar(20)\n",
      "Declare @tot_credit int\n",
      "Set @i = 1\n",
      "while @i < 50000\n",
      "begin\n",
      "Set @name = 'ZS\n",
      "-@i를 스트링으로 변환하여 @id에 저장\n",
      "set @id = convert(char,@i)\n",
      "-- @name에 이름을번 환하여 저장\n",
      "set @name = @name + convert(char,@i)\n",
      "if(@i <= 10000)\n",
      "--.\n",
      "set @dept_name = 'Comp, Sci.\"\n",
      "else if(@i <= 20000)\n",
      "set @dept_name = 'History\n",
      "else if(@i <= 30000)\n",
      "set @dept_name = 'Physics'\n",
      "else if(@i <= 40000)\n",
      "set @dept_name = 'Biology'\n",
      "else\n",
      "set @dept_name = 'Elec. Eng.'\n",
      "--@tot.credit을 랜덤 생성하여 저장\n",
      "set @tot_credit\n",
      "insert into student1 values(@id, @name, @dept_name, @tot_credit)\n",
      "set @i = @i + 1\n",
      "end\n",
      "CONVERT(INT, RANDO * 130)\n",
      "Set nocount on\n",
      "go\n",
      "\n"
     ]
    }
   ],
   "source": [
    "detect_text_json(\"test.png\")"
   ]
  },
  {
   "cell_type": "code",
   "execution_count": null,
   "metadata": {},
   "outputs": [],
   "source": []
  }
 ],
 "metadata": {
  "kernelspec": {
   "display_name": "OcrTest",
   "language": "python",
   "name": "ocrtest"
  },
  "language_info": {
   "codemirror_mode": {
    "name": "ipython",
    "version": 3
   },
   "file_extension": ".py",
   "mimetype": "text/x-python",
   "name": "python",
   "nbconvert_exporter": "python",
   "pygments_lexer": "ipython3",
   "version": "3.5.6"
  }
 },
 "nbformat": 4,
 "nbformat_minor": 4
}
